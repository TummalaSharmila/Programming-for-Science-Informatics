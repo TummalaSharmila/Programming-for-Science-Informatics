#task1
#opening the sequence file in read mode with open()
with open('chr1_GL383518v1_alt.fa', 'r')as file:
    #removing the first line as it is the name of the sequence
    next(file)
    #reading the sequence into a string variable
    seq=file.read()
#removing the new line characters
seq=seq.replace("\n","")
#Print the 10th letter of this sequence.
print(seq[9])
#Print the 758th letter of this sequence.
print(seq[757])

